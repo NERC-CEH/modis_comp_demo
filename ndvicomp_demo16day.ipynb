{
 "cells": [
  {
   "cell_type": "markdown",
   "metadata": {},
   "source": [
    "# MODIS composites and zonal stats for SOC-D \n",
    "\n",
    "\n",
    "### The following will download then average temporally through some MODIS rasters to produce the desired 5 yr May inclusive average for the SOC-D project which will be used to attribute ceh land cover polygons. \n",
    "\n",
    "### This notebook processes the 16 day 250m product.\n",
    "\n",
    "It should be noted that the input rasters have already been averaged by NASA/USGS prior to the averaging below.\n",
    "\n",
    "**Please register with APPears so you can use your username and password in the workflow**\n",
    "\n",
    "https://lpdaacsvc.cr.usgs.gov/appeears/\n",
    "\n",
    "**The first part utilises a function I have written to access the APPears API to download the desired data within an AOI geojson.**\n",
    "\n",
    "**The second stacks and composites rasters then attributes the shapefiles using functions from my own lib geospatial_learn.** \n",
    "\n",
    "https://github.com/Ciaran1981/geospatial-learn\n",
    "\n",
    "The dependencies for this are numerous and it will take a long time to install SO for brevity...\n",
    "\n",
    "...rather than you having to wait, I have just provided the necessary functions locally, so provided you work in this folder you can import the function. The files are ```appears_down.py``` and ```shape.py```. This reduces our dendencies considerably.\n",
    "\n",
    "The locally based functions are imported below."
   ]
  },
  {
   "cell_type": "code",
   "execution_count": null,
   "metadata": {},
   "outputs": [],
   "source": [
    "from src.appears_down import appears_download\n",
    "from src.shape import zonal_stats\n",
    "#from geospatial_learn.shape import zonal_stats\n",
    "import src.raster as rs\n",
    "# from geospatial_learn import raster as rs\n",
    "import os\n",
    "import pandas as pd"
   ]
  },
  {
   "cell_type": "markdown",
   "metadata": {},
   "source": [
    "### Part 1\n",
    "\n",
    "Data download. We use a polygon to demarcate the area of interest. To this end we have an aoi geojson ```aoi.geojson``` which is a part of Wales.\n",
    "\n",
    "We use the APPears API (functionalised for you in the file ```appears_down.py```)\n",
    "\n",
    "**Remember to register to obtain a user, password you can use with this**\n"
   ]
  },
  {
   "cell_type": "code",
   "execution_count": null,
   "metadata": {},
   "outputs": [],
   "source": [
    "# the download folder\n",
    "out_dir = 'modisimg16day'\n",
    "os.mkdir(out_dir)\n",
    "\n",
    "# the vars we need for the function\n",
    "aoi = \"aoi.geojson\"\n",
    "user = 'your user name'\n",
    "password='your password'\n",
    "start_date=\"05-01\"\n",
    "end_date=\"05-31\""
   ]
  },
  {
   "cell_type": "markdown",
   "metadata": {},
   "source": [
    "Please use...\n",
    "```python \n",
    "appears_download?\n",
    "```\n",
    "...to query the docstring of the fuction and the params will be explained. \n",
    "\n",
    "Of most importance here are:\n",
    "```python\n",
    "product_layer=[('MOD13Q1.006', '_250m_16_days_NDVI')], recurring=True\n",
    "```\n",
    "**The products**\n",
    "The APPears API requires the NASA/USGS code for the product (```'MOD13Q1.006```) which is 250m MODIS data and layer (```'_250m_16_days_NDVI'```) which is the 16-day NDVI. This allows us to download subset of the product and a similar theory can be applied to Landsat bands etc.\n",
    "\n",
    "**The search**\n",
    "The parameters below stipulate that we are searching from start to end of May, from 2011-15 and only within the month of May. If the recurring param was switched to False we'd get all the imagery from 2011-05-01 -> 2015-05-01 rather than only within the month itself.\n",
    "\n",
    "```python \n",
    "start_date, end_date, year_range=[2011, 2015], recurring=True\n",
    "\n",
    "```\n",
    "\n",
    "\n",
    "Whilst processing a repeat message will appear (pending > processing > done), followed by some joblib outputs."
   ]
  },
  {
   "cell_type": "code",
   "execution_count": null,
   "metadata": {},
   "outputs": [],
   "source": [
    "appears_download(aoi, user, password, start_date, end_date, \n",
    "                 out_dir, year_range=[2011, 2015], product_layer=[('MOD13Q1.006', '_250m_16_days_NDVI')],\n",
    "                 recurring=True)"
   ]
  },
  {
   "cell_type": "markdown",
   "metadata": {},
   "source": [
    "### Part 2: Temporal composite and zonal stats\n",
    "\n",
    "The following will use the downloaded data and meta to sort through the files and weed out some errors associated with this data layer. The 16 day composites naturally straddle monthly boundaries so if we are to stick strictly to May we must remove the April->May images.\n",
    "\n",
    "To this end we use pandas and filter the meta data associated with the download."
   ]
  },
  {
   "cell_type": "code",
   "execution_count": null,
   "metadata": {},
   "outputs": [],
   "source": [
    "# use the handy summary csv to subset our data by date as the filenames are \n",
    "# not in an easily understood dating format\n",
    "df = pd.read_csv(os.path.join(out_dir, 'MOD13Q1-006-Statistics.csv'))\n",
    "\n",
    "df.head()"
   ]
  },
  {
   "cell_type": "markdown",
   "metadata": {},
   "source": [
    "There are some April images despite our filtering so we reduce to May only with pandas then make a list of file paths to input in processing."
   ]
  },
  {
   "cell_type": "code",
   "execution_count": null,
   "metadata": {},
   "outputs": [],
   "source": [
    "# change to datetime format\n",
    "df['Date'] = pd.to_datetime(df['Date'])\n",
    "\n",
    "# get the may only images\n",
    "may = df.loc[(df['Date'].dt.month==5)]\n",
    "\n",
    "# Get the May file paths\n",
    "fileList = [os.path.join(out_dir, f+'.tif') for f in may[\"File Name\"]]\n",
    "fileList.sort()\n",
    "\n",
    "# Would you believe it  - NASA folks have not formatted the files in the csv correctly\n",
    "# now we replace the incorrect char \n",
    "fileList = [f.replace(\"MOD13Q1_006\", \"MOD13Q1.006\") for f in fileList]\n",
    "\n",
    "may"
   ]
  },
  {
   "cell_type": "markdown",
   "metadata": {},
   "source": [
    "### Phew - finally we process rasters to composites, the steps of which are:\n",
    "\n",
    "1. Stack the layers\n",
    "2. Warp the raster to OSGB ('EPSG:27700')\n",
    "3. Calculate the depth-wise stat\n"
   ]
  },
  {
   "cell_type": "code",
   "execution_count": null,
   "metadata": {},
   "outputs": [],
   "source": [
    "outRas = os.path.join(out_dir, \"ModisMay11-15.tif\")\n",
    "rs.stack_ras(fileList, outRas)\n",
    "\n",
    "# warp & reproj it for later\n",
    "repro = outRas[:-4]+\"espg27700.tif\"\n",
    "rs._quickwarp(outRas, repro, proj='EPSG:27700')\n",
    "\n",
    "# As above create the output stacks\n",
    "compRas = os.path.join(out_dir, \"ModisMeanMay11-15.tif\")\n",
    "\n",
    "# Finally, average through the bands \n",
    "# 2011-15\n",
    "rs.stat_comp(repro, compRas, bandList=[1], stat='mean')"
   ]
  },
  {
   "cell_type": "markdown",
   "metadata": {},
   "source": [
    "### Zonal Stats\n",
    "\n",
    "Lastly we add the zonal stats using an all touching strategy as the polys are fairly small. A subset of the 2015 lcm is included in the repo ```lcm15.gpkg```\n",
    "\n",
    "Should you wish to only include pixels not touching borders add...\n",
    "\n",
    "```python\n",
    "all_touched=False\n",
    "```"
   ]
  },
  {
   "cell_type": "code",
   "execution_count": null,
   "metadata": {},
   "outputs": [],
   "source": [
    "# Now we add the zonal stat to each polygon in ceh_lcover\n",
    "inShp = \"lcm15.gpkg\"\n",
    "\n",
    "stats = zonal_stats(inShp, compRas, 1, \"May2011_15ndvi\")\n"
   ]
  },
  {
   "cell_type": "markdown",
   "metadata": {},
   "source": [
    "### Result\n",
    "\n",
    "You should end up with something like the below.\n",
    "\n",
    "<img src=\"figs/ndvi.png\" style=\"height:500px\">"
   ]
  },
  {
   "cell_type": "code",
   "execution_count": null,
   "metadata": {},
   "outputs": [],
   "source": []
  }
 ],
 "metadata": {
  "kernelspec": {
   "display_name": "Python [conda env:ndvi_demo]",
   "language": "python",
   "name": "conda-env-ndvi_demo-py"
  },
  "language_info": {
   "codemirror_mode": {
    "name": "ipython",
    "version": 3
   },
   "file_extension": ".py",
   "mimetype": "text/x-python",
   "name": "python",
   "nbconvert_exporter": "python",
   "pygments_lexer": "ipython3",
   "version": "3.8.6"
  }
 },
 "nbformat": 4,
 "nbformat_minor": 4
}
